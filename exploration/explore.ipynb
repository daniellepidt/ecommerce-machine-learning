{
 "cells": [
  {
   "cell_type": "markdown",
   "metadata": {},
   "source": [
    "## Exploration"
   ]
  },
  {
   "cell_type": "code",
   "execution_count": 8,
   "metadata": {},
   "outputs": [],
   "source": [
    "import pandas as pd\n",
    "import matplotlib.pyplot as plt"
   ]
  },
  {
   "cell_type": "markdown",
   "metadata": {},
   "source": [
    "### Importing test to pandas dataframe"
   ]
  },
  {
   "cell_type": "code",
   "execution_count": 9,
   "metadata": {},
   "outputs": [
    {
     "data": {
      "text/html": [
       "<div>\n",
       "<style scoped>\n",
       "    .dataframe tbody tr th:only-of-type {\n",
       "        vertical-align: middle;\n",
       "    }\n",
       "\n",
       "    .dataframe tbody tr th {\n",
       "        vertical-align: top;\n",
       "    }\n",
       "\n",
       "    .dataframe thead th {\n",
       "        text-align: right;\n",
       "    }\n",
       "</style>\n",
       "<table border=\"1\" class=\"dataframe\">\n",
       "  <thead>\n",
       "    <tr style=\"text-align: right;\">\n",
       "      <th></th>\n",
       "      <th>id</th>\n",
       "      <th>closeness_to_holiday</th>\n",
       "      <th>B</th>\n",
       "      <th>Month</th>\n",
       "      <th>product_page_duration</th>\n",
       "      <th>BounceRates</th>\n",
       "      <th>info_page_duration</th>\n",
       "      <th>total_duration</th>\n",
       "      <th>device</th>\n",
       "      <th>num_of_admin_pages</th>\n",
       "      <th>...</th>\n",
       "      <th>ExitRates</th>\n",
       "      <th>num_of_info_pages</th>\n",
       "      <th>D</th>\n",
       "      <th>user_type</th>\n",
       "      <th>Region</th>\n",
       "      <th>admin_page_duration</th>\n",
       "      <th>PageValues</th>\n",
       "      <th>A</th>\n",
       "      <th>Weekend</th>\n",
       "      <th>internet_browser</th>\n",
       "    </tr>\n",
       "  </thead>\n",
       "  <tbody>\n",
       "    <tr>\n",
       "      <th>0</th>\n",
       "      <td>9</td>\n",
       "      <td>0.4</td>\n",
       "      <td>90.064579</td>\n",
       "      <td>Feb</td>\n",
       "      <td>738.0 minutes</td>\n",
       "      <td>0.000000</td>\n",
       "      <td>0.0 minutes</td>\n",
       "      <td>NaN</td>\n",
       "      <td>2.0</td>\n",
       "      <td>0.0</td>\n",
       "      <td>...</td>\n",
       "      <td>0.022222</td>\n",
       "      <td>0.0</td>\n",
       "      <td>NaN</td>\n",
       "      <td>Returning_Visitor</td>\n",
       "      <td>1.0</td>\n",
       "      <td>0.0</td>\n",
       "      <td>0.0</td>\n",
       "      <td>c_2</td>\n",
       "      <td>0.0</td>\n",
       "      <td>edge_96.0.1054.72</td>\n",
       "    </tr>\n",
       "    <tr>\n",
       "      <th>1</th>\n",
       "      <td>11</td>\n",
       "      <td>0.4</td>\n",
       "      <td>103.477432</td>\n",
       "      <td>Feb</td>\n",
       "      <td>407.75 minutes</td>\n",
       "      <td>0.018750</td>\n",
       "      <td>0.0 minutes</td>\n",
       "      <td>NaN</td>\n",
       "      <td>1.0</td>\n",
       "      <td>0.0</td>\n",
       "      <td>...</td>\n",
       "      <td>0.025833</td>\n",
       "      <td>NaN</td>\n",
       "      <td>NaN</td>\n",
       "      <td>Returning_Visitor</td>\n",
       "      <td>4.0</td>\n",
       "      <td>0.0</td>\n",
       "      <td>0.0</td>\n",
       "      <td>c_3</td>\n",
       "      <td>0.0</td>\n",
       "      <td>safari_13</td>\n",
       "    </tr>\n",
       "    <tr>\n",
       "      <th>2</th>\n",
       "      <td>22</td>\n",
       "      <td>0.0</td>\n",
       "      <td>97.143903</td>\n",
       "      <td>Feb</td>\n",
       "      <td>105.0 minutes</td>\n",
       "      <td>0.000000</td>\n",
       "      <td>0.0 minutes</td>\n",
       "      <td>NaN</td>\n",
       "      <td>3.0</td>\n",
       "      <td>0.0</td>\n",
       "      <td>...</td>\n",
       "      <td>0.033333</td>\n",
       "      <td>0.0</td>\n",
       "      <td>NaN</td>\n",
       "      <td>Returning_Visitor</td>\n",
       "      <td>1.0</td>\n",
       "      <td>0.0</td>\n",
       "      <td>0.0</td>\n",
       "      <td>c_5</td>\n",
       "      <td>0.0</td>\n",
       "      <td>chrome_98.0.1</td>\n",
       "    </tr>\n",
       "    <tr>\n",
       "      <th>3</th>\n",
       "      <td>26</td>\n",
       "      <td>0.0</td>\n",
       "      <td>108.802907</td>\n",
       "      <td>Feb</td>\n",
       "      <td>1135.444444 minutes</td>\n",
       "      <td>0.002857</td>\n",
       "      <td>0.0 minutes</td>\n",
       "      <td>NaN</td>\n",
       "      <td>2.0</td>\n",
       "      <td>4.0</td>\n",
       "      <td>...</td>\n",
       "      <td>0.009524</td>\n",
       "      <td>0.0</td>\n",
       "      <td>NaN</td>\n",
       "      <td>Returning_Visitor</td>\n",
       "      <td>1.0</td>\n",
       "      <td>64.6</td>\n",
       "      <td>0.0</td>\n",
       "      <td>c_3</td>\n",
       "      <td>0.0</td>\n",
       "      <td>chrome_99.1.3</td>\n",
       "    </tr>\n",
       "    <tr>\n",
       "      <th>4</th>\n",
       "      <td>51</td>\n",
       "      <td>0.2</td>\n",
       "      <td>119.761133</td>\n",
       "      <td>Feb</td>\n",
       "      <td>265.1666667 minutes</td>\n",
       "      <td>0.011111</td>\n",
       "      <td>0.0 minutes</td>\n",
       "      <td>NaN</td>\n",
       "      <td>3.0</td>\n",
       "      <td>0.0</td>\n",
       "      <td>...</td>\n",
       "      <td>0.026111</td>\n",
       "      <td>0.0</td>\n",
       "      <td>NaN</td>\n",
       "      <td>Returning_Visitor</td>\n",
       "      <td>1.0</td>\n",
       "      <td>0.0</td>\n",
       "      <td>0.0</td>\n",
       "      <td>c_3</td>\n",
       "      <td>0.0</td>\n",
       "      <td>chrome_80</td>\n",
       "    </tr>\n",
       "    <tr>\n",
       "      <th>5</th>\n",
       "      <td>73</td>\n",
       "      <td>0.0</td>\n",
       "      <td>105.798467</td>\n",
       "      <td>Feb</td>\n",
       "      <td>426.66666669999995 minutes</td>\n",
       "      <td>0.000000</td>\n",
       "      <td>0.0 minutes</td>\n",
       "      <td>NaN</td>\n",
       "      <td>2.0</td>\n",
       "      <td>0.0</td>\n",
       "      <td>...</td>\n",
       "      <td>0.012500</td>\n",
       "      <td>0.0</td>\n",
       "      <td>NaN</td>\n",
       "      <td>Returning_Visitor</td>\n",
       "      <td>3.0</td>\n",
       "      <td>0.0</td>\n",
       "      <td>0.0</td>\n",
       "      <td>c_2</td>\n",
       "      <td>0.0</td>\n",
       "      <td>edge_96.0.1054.75</td>\n",
       "    </tr>\n",
       "  </tbody>\n",
       "</table>\n",
       "<p>6 rows × 22 columns</p>\n",
       "</div>"
      ],
      "text/plain": [
       "   id  closeness_to_holiday           B Month       product_page_duration  \\\n",
       "0   9                   0.4   90.064579   Feb               738.0 minutes   \n",
       "1  11                   0.4  103.477432   Feb              407.75 minutes   \n",
       "2  22                   0.0   97.143903   Feb               105.0 minutes   \n",
       "3  26                   0.0  108.802907   Feb         1135.444444 minutes   \n",
       "4  51                   0.2  119.761133   Feb         265.1666667 minutes   \n",
       "5  73                   0.0  105.798467   Feb  426.66666669999995 minutes   \n",
       "\n",
       "   BounceRates info_page_duration  total_duration  device  num_of_admin_pages  \\\n",
       "0     0.000000        0.0 minutes             NaN     2.0                 0.0   \n",
       "1     0.018750        0.0 minutes             NaN     1.0                 0.0   \n",
       "2     0.000000        0.0 minutes             NaN     3.0                 0.0   \n",
       "3     0.002857        0.0 minutes             NaN     2.0                 4.0   \n",
       "4     0.011111        0.0 minutes             NaN     3.0                 0.0   \n",
       "5     0.000000        0.0 minutes             NaN     2.0                 0.0   \n",
       "\n",
       "   ...  ExitRates num_of_info_pages   D          user_type  Region  \\\n",
       "0  ...   0.022222               0.0 NaN  Returning_Visitor     1.0   \n",
       "1  ...   0.025833               NaN NaN  Returning_Visitor     4.0   \n",
       "2  ...   0.033333               0.0 NaN  Returning_Visitor     1.0   \n",
       "3  ...   0.009524               0.0 NaN  Returning_Visitor     1.0   \n",
       "4  ...   0.026111               0.0 NaN  Returning_Visitor     1.0   \n",
       "5  ...   0.012500               0.0 NaN  Returning_Visitor     3.0   \n",
       "\n",
       "  admin_page_duration  PageValues    A  Weekend   internet_browser  \n",
       "0                 0.0         0.0  c_2      0.0  edge_96.0.1054.72  \n",
       "1                 0.0         0.0  c_3      0.0          safari_13  \n",
       "2                 0.0         0.0  c_5      0.0      chrome_98.0.1  \n",
       "3                64.6         0.0  c_3      0.0      chrome_99.1.3  \n",
       "4                 0.0         0.0  c_3      0.0          chrome_80  \n",
       "5                 0.0         0.0  c_2      0.0  edge_96.0.1054.75  \n",
       "\n",
       "[6 rows x 22 columns]"
      ]
     },
     "execution_count": 9,
     "metadata": {},
     "output_type": "execute_result"
    }
   ],
   "source": [
    "test_df = pd.read_csv (r'test.csv')\n",
    "test_df.head(6)"
   ]
  },
  {
   "cell_type": "code",
   "execution_count": 10,
   "metadata": {},
   "outputs": [
    {
     "data": {
      "text/html": [
       "<div>\n",
       "<style scoped>\n",
       "    .dataframe tbody tr th:only-of-type {\n",
       "        vertical-align: middle;\n",
       "    }\n",
       "\n",
       "    .dataframe tbody tr th {\n",
       "        vertical-align: top;\n",
       "    }\n",
       "\n",
       "    .dataframe thead th {\n",
       "        text-align: right;\n",
       "    }\n",
       "</style>\n",
       "<table border=\"1\" class=\"dataframe\">\n",
       "  <thead>\n",
       "    <tr style=\"text-align: right;\">\n",
       "      <th></th>\n",
       "      <th>id</th>\n",
       "      <th>closeness_to_holiday</th>\n",
       "      <th>B</th>\n",
       "      <th>BounceRates</th>\n",
       "      <th>total_duration</th>\n",
       "      <th>device</th>\n",
       "      <th>num_of_admin_pages</th>\n",
       "      <th>num_of_product_pages</th>\n",
       "      <th>ExitRates</th>\n",
       "      <th>num_of_info_pages</th>\n",
       "      <th>D</th>\n",
       "      <th>Region</th>\n",
       "      <th>admin_page_duration</th>\n",
       "      <th>PageValues</th>\n",
       "      <th>Weekend</th>\n",
       "    </tr>\n",
       "  </thead>\n",
       "  <tbody>\n",
       "    <tr>\n",
       "      <th>count</th>\n",
       "      <td>1851.000000</td>\n",
       "      <td>1739.000000</td>\n",
       "      <td>1845.000000</td>\n",
       "      <td>1849.000000</td>\n",
       "      <td>1023.000000</td>\n",
       "      <td>1788.000000</td>\n",
       "      <td>1772.000000</td>\n",
       "      <td>1757.000000</td>\n",
       "      <td>1848.000000</td>\n",
       "      <td>1750.000000</td>\n",
       "      <td>15.000000</td>\n",
       "      <td>1846.000000</td>\n",
       "      <td>1741.000000</td>\n",
       "      <td>1847.000000</td>\n",
       "      <td>1846.000000</td>\n",
       "    </tr>\n",
       "    <tr>\n",
       "      <th>mean</th>\n",
       "      <td>6305.563479</td>\n",
       "      <td>0.057504</td>\n",
       "      <td>100.017397</td>\n",
       "      <td>0.021813</td>\n",
       "      <td>1313.952178</td>\n",
       "      <td>2.149888</td>\n",
       "      <td>2.230248</td>\n",
       "      <td>32.425726</td>\n",
       "      <td>0.042101</td>\n",
       "      <td>0.481143</td>\n",
       "      <td>3.910114</td>\n",
       "      <td>3.158722</td>\n",
       "      <td>74.789770</td>\n",
       "      <td>5.887469</td>\n",
       "      <td>0.225352</td>\n",
       "    </tr>\n",
       "    <tr>\n",
       "      <th>std</th>\n",
       "      <td>3523.902752</td>\n",
       "      <td>0.192748</td>\n",
       "      <td>9.910496</td>\n",
       "      <td>0.047473</td>\n",
       "      <td>1901.679847</td>\n",
       "      <td>0.937269</td>\n",
       "      <td>3.164246</td>\n",
       "      <td>43.618699</td>\n",
       "      <td>0.047491</td>\n",
       "      <td>1.214755</td>\n",
       "      <td>2.670331</td>\n",
       "      <td>2.389282</td>\n",
       "      <td>152.912021</td>\n",
       "      <td>17.213825</td>\n",
       "      <td>0.417927</td>\n",
       "    </tr>\n",
       "    <tr>\n",
       "      <th>min</th>\n",
       "      <td>9.000000</td>\n",
       "      <td>0.000000</td>\n",
       "      <td>68.411101</td>\n",
       "      <td>0.000000</td>\n",
       "      <td>0.000000</td>\n",
       "      <td>1.000000</td>\n",
       "      <td>0.000000</td>\n",
       "      <td>0.000000</td>\n",
       "      <td>0.000000</td>\n",
       "      <td>0.000000</td>\n",
       "      <td>-0.519170</td>\n",
       "      <td>1.000000</td>\n",
       "      <td>0.000000</td>\n",
       "      <td>0.000000</td>\n",
       "      <td>0.000000</td>\n",
       "    </tr>\n",
       "    <tr>\n",
       "      <th>25%</th>\n",
       "      <td>3281.500000</td>\n",
       "      <td>0.000000</td>\n",
       "      <td>93.304622</td>\n",
       "      <td>0.000000</td>\n",
       "      <td>241.975000</td>\n",
       "      <td>2.000000</td>\n",
       "      <td>0.000000</td>\n",
       "      <td>8.000000</td>\n",
       "      <td>0.014160</td>\n",
       "      <td>0.000000</td>\n",
       "      <td>1.999105</td>\n",
       "      <td>1.000000</td>\n",
       "      <td>0.000000</td>\n",
       "      <td>0.000000</td>\n",
       "      <td>0.000000</td>\n",
       "    </tr>\n",
       "    <tr>\n",
       "      <th>50%</th>\n",
       "      <td>6436.000000</td>\n",
       "      <td>0.000000</td>\n",
       "      <td>100.267483</td>\n",
       "      <td>0.003125</td>\n",
       "      <td>701.000000</td>\n",
       "      <td>2.000000</td>\n",
       "      <td>1.000000</td>\n",
       "      <td>19.000000</td>\n",
       "      <td>0.025000</td>\n",
       "      <td>0.000000</td>\n",
       "      <td>4.555140</td>\n",
       "      <td>3.000000</td>\n",
       "      <td>7.000000</td>\n",
       "      <td>0.000000</td>\n",
       "      <td>0.000000</td>\n",
       "    </tr>\n",
       "    <tr>\n",
       "      <th>75%</th>\n",
       "      <td>9422.500000</td>\n",
       "      <td>0.000000</td>\n",
       "      <td>106.438254</td>\n",
       "      <td>0.016667</td>\n",
       "      <td>1604.225000</td>\n",
       "      <td>3.000000</td>\n",
       "      <td>3.000000</td>\n",
       "      <td>39.000000</td>\n",
       "      <td>0.048509</td>\n",
       "      <td>0.000000</td>\n",
       "      <td>5.921101</td>\n",
       "      <td>4.000000</td>\n",
       "      <td>92.750000</td>\n",
       "      <td>0.000000</td>\n",
       "      <td>0.000000</td>\n",
       "    </tr>\n",
       "    <tr>\n",
       "      <th>max</th>\n",
       "      <td>12307.000000</td>\n",
       "      <td>1.000000</td>\n",
       "      <td>135.351689</td>\n",
       "      <td>0.200000</td>\n",
       "      <td>23614.479813</td>\n",
       "      <td>8.000000</td>\n",
       "      <td>21.000000</td>\n",
       "      <td>439.000000</td>\n",
       "      <td>0.200000</td>\n",
       "      <td>10.000000</td>\n",
       "      <td>6.859929</td>\n",
       "      <td>9.000000</td>\n",
       "      <td>1715.000000</td>\n",
       "      <td>226.677702</td>\n",
       "      <td>1.000000</td>\n",
       "    </tr>\n",
       "  </tbody>\n",
       "</table>\n",
       "</div>"
      ],
      "text/plain": [
       "                 id  closeness_to_holiday            B  BounceRates  \\\n",
       "count   1851.000000           1739.000000  1845.000000  1849.000000   \n",
       "mean    6305.563479              0.057504   100.017397     0.021813   \n",
       "std     3523.902752              0.192748     9.910496     0.047473   \n",
       "min        9.000000              0.000000    68.411101     0.000000   \n",
       "25%     3281.500000              0.000000    93.304622     0.000000   \n",
       "50%     6436.000000              0.000000   100.267483     0.003125   \n",
       "75%     9422.500000              0.000000   106.438254     0.016667   \n",
       "max    12307.000000              1.000000   135.351689     0.200000   \n",
       "\n",
       "       total_duration       device  num_of_admin_pages  num_of_product_pages  \\\n",
       "count     1023.000000  1788.000000         1772.000000           1757.000000   \n",
       "mean      1313.952178     2.149888            2.230248             32.425726   \n",
       "std       1901.679847     0.937269            3.164246             43.618699   \n",
       "min          0.000000     1.000000            0.000000              0.000000   \n",
       "25%        241.975000     2.000000            0.000000              8.000000   \n",
       "50%        701.000000     2.000000            1.000000             19.000000   \n",
       "75%       1604.225000     3.000000            3.000000             39.000000   \n",
       "max      23614.479813     8.000000           21.000000            439.000000   \n",
       "\n",
       "         ExitRates  num_of_info_pages          D       Region  \\\n",
       "count  1848.000000        1750.000000  15.000000  1846.000000   \n",
       "mean      0.042101           0.481143   3.910114     3.158722   \n",
       "std       0.047491           1.214755   2.670331     2.389282   \n",
       "min       0.000000           0.000000  -0.519170     1.000000   \n",
       "25%       0.014160           0.000000   1.999105     1.000000   \n",
       "50%       0.025000           0.000000   4.555140     3.000000   \n",
       "75%       0.048509           0.000000   5.921101     4.000000   \n",
       "max       0.200000          10.000000   6.859929     9.000000   \n",
       "\n",
       "       admin_page_duration   PageValues      Weekend  \n",
       "count          1741.000000  1847.000000  1846.000000  \n",
       "mean             74.789770     5.887469     0.225352  \n",
       "std             152.912021    17.213825     0.417927  \n",
       "min               0.000000     0.000000     0.000000  \n",
       "25%               0.000000     0.000000     0.000000  \n",
       "50%               7.000000     0.000000     0.000000  \n",
       "75%              92.750000     0.000000     0.000000  \n",
       "max            1715.000000   226.677702     1.000000  "
      ]
     },
     "execution_count": 10,
     "metadata": {},
     "output_type": "execute_result"
    }
   ],
   "source": [
    "test_df.describe()"
   ]
  },
  {
   "cell_type": "code",
   "execution_count": 11,
   "metadata": {},
   "outputs": [
    {
     "data": {
      "image/png": "[encoded data removed]",
      "text/plain": [
       "<Figure size 432x288 with 1 Axes>"
      ]
     },
     "metadata": {
      "needs_background": "light"
     },
     "output_type": "display_data"
    }
   ],
   "source": [
    "test_df['num_of_admin_pages'].plot.hist()\n",
    "plt.show()"
   ]
  },
  {
   "cell_type": "code",
   "execution_count": 12,
   "metadata": {},
   "outputs": [
    {
     "data": {
      "image/png": "[encoded data removed]",
      "text/plain": [
       "<Figure size 432x288 with 1 Axes>"
      ]
     },
     "metadata": {
      "needs_background": "light"
     },
     "output_type": "display_data"
    }
   ],
   "source": [
    "test_df['closeness_to_holiday'].plot.hist()\n",
    "plt.show()"
   ]
  },
  {
   "cell_type": "code",
   "execution_count": 13,
   "metadata": {},
   "outputs": [
    {
     "data": {
      "image/png": "[encoded data removed]",
      "text/plain": [
       "<Figure size 432x288 with 1 Axes>"
      ]
     },
     "metadata": {
      "needs_background": "light"
     },
     "output_type": "display_data"
    }
   ],
   "source": [
    "test_df['B'].plot.hist()\n",
    "plt.show()"
   ]
  },
  {
   "cell_type": "code",
   "execution_count": 14,
   "metadata": {},
   "outputs": [
    {
     "data": {
      "image/png": "[encoded data removed]",
      "text/plain": [
       "<Figure size 432x288 with 1 Axes>"
      ]
     },
     "metadata": {
      "needs_background": "light"
     },
     "output_type": "display_data"
    }
   ],
   "source": [
    "test_df['BounceRates'].plot.hist()\n",
    "plt.show()"
   ]
  },
  {
   "cell_type": "code",
   "execution_count": 15,
   "metadata": {},
   "outputs": [
    {
     "data": {
      "image/png": "[encoded data removed]",
      "text/plain": [
       "<Figure size 432x288 with 1 Axes>"
      ]
     },
     "metadata": {
      "needs_background": "light"
     },
     "output_type": "display_data"
    }
   ],
   "source": [
    "test_df['total_duration'].plot.hist()\n",
    "plt.show()"
   ]
  },
  {
   "cell_type": "code",
   "execution_count": 16,
   "metadata": {},
   "outputs": [
    {
     "data": {
      "image/png": "[encoded data removed]",
      "text/plain": [
       "<Figure size 432x288 with 1 Axes>"
      ]
     },
     "metadata": {
      "needs_background": "light"
     },
     "output_type": "display_data"
    }
   ],
   "source": [
    "test_df['device'].plot.hist()\n",
    "plt.show()"
   ]
  },
  {
   "cell_type": "code",
   "execution_count": 17,
   "metadata": {},
   "outputs": [
    {
     "data": {
      "image/png": "[encoded data removed]",
      "text/plain": [
       "<Figure size 432x288 with 1 Axes>"
      ]
     },
     "metadata": {
      "needs_background": "light"
     },
     "output_type": "display_data"
    }
   ],
   "source": [
    "test_df['num_of_product_pages'].plot.hist()\n",
    "plt.show()"
   ]
  },
  {
   "cell_type": "code",
   "execution_count": 18,
   "metadata": {},
   "outputs": [
    {
     "data": {
      "image/png": "[encoded data removed]",
      "text/plain": [
       "<Figure size 432x288 with 1 Axes>"
      ]
     },
     "metadata": {
      "needs_background": "light"
     },
     "output_type": "display_data"
    }
   ],
   "source": [
    "test_df['ExitRates'].plot.hist()\n",
    "plt.show()"
   ]
  }
 ],
 "metadata": {
  "interpreter": {
   "hash": "4b11f8d247a7bf8c0a6f4d56e0a0da45aab48acb62ce74e55bc85a3a7cda7f4b"
  },
  "kernelspec": {
   "display_name": "Python 3.8.8 ('base')",
   "language": "python",
   "name": "python3"
  },
  "language_info": {
   "codemirror_mode": {
    "name": "ipython",
    "version": 3
   },
   "file_extension": ".py",
   "mimetype": "text/x-python",
   "name": "python",
   "nbconvert_exporter": "python",
   "pygments_lexer": "ipython3",
   "version": "3.8.8"
  },
  "orig_nbformat": 4
 },
 "nbformat": 4,
 "nbformat_minor": 2
}
