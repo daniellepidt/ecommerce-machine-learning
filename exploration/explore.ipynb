{
 "cells": [
  {
   "cell_type": "markdown",
   "metadata": {},
   "source": [
    "## Exploration"
   ]
  },
  {
   "cell_type": "markdown",
   "metadata": {},
   "source": [
    "### Imports"
   ]
  },
  {
   "cell_type": "code",
   "execution_count": 28,
   "metadata": {},
   "outputs": [],
   "source": [
    "import pandas as pd\n",
    "import matplotlib.pyplot as plt\n",
    "import seaborn as sns"
   ]
  },
  {
   "cell_type": "markdown",
   "metadata": {},
   "source": [
    "### Importing test to pandas dataframe"
   ]
  },
  {
   "cell_type": "code",
   "execution_count": 29,
   "metadata": {},
   "outputs": [
    {
     "data": {
      "text/html": [
       "<div>\n",
       "<style scoped>\n",
       "    .dataframe tbody tr th:only-of-type {\n",
       "        vertical-align: middle;\n",
       "    }\n",
       "\n",
       "    .dataframe tbody tr th {\n",
       "        vertical-align: top;\n",
       "    }\n",
       "\n",
       "    .dataframe thead th {\n",
       "        text-align: right;\n",
       "    }\n",
       "</style>\n",
       "<table border=\"1\" class=\"dataframe\">\n",
       "  <thead>\n",
       "    <tr style=\"text-align: right;\">\n",
       "      <th></th>\n",
       "      <th>id</th>\n",
       "      <th>closeness_to_holiday</th>\n",
       "      <th>B</th>\n",
       "      <th>Month</th>\n",
       "      <th>product_page_duration</th>\n",
       "      <th>BounceRates</th>\n",
       "      <th>info_page_duration</th>\n",
       "      <th>total_duration</th>\n",
       "      <th>device</th>\n",
       "      <th>num_of_admin_pages</th>\n",
       "      <th>...</th>\n",
       "      <th>ExitRates</th>\n",
       "      <th>num_of_info_pages</th>\n",
       "      <th>D</th>\n",
       "      <th>user_type</th>\n",
       "      <th>Region</th>\n",
       "      <th>admin_page_duration</th>\n",
       "      <th>PageValues</th>\n",
       "      <th>A</th>\n",
       "      <th>Weekend</th>\n",
       "      <th>internet_browser</th>\n",
       "    </tr>\n",
       "  </thead>\n",
       "  <tbody>\n",
       "    <tr>\n",
       "      <th>0</th>\n",
       "      <td>9</td>\n",
       "      <td>0.4</td>\n",
       "      <td>90.064579</td>\n",
       "      <td>Feb</td>\n",
       "      <td>738.0 minutes</td>\n",
       "      <td>0.000000</td>\n",
       "      <td>0.0 minutes</td>\n",
       "      <td>NaN</td>\n",
       "      <td>2.0</td>\n",
       "      <td>0.0</td>\n",
       "      <td>...</td>\n",
       "      <td>0.022222</td>\n",
       "      <td>0.0</td>\n",
       "      <td>NaN</td>\n",
       "      <td>Returning_Visitor</td>\n",
       "      <td>1.0</td>\n",
       "      <td>0.0</td>\n",
       "      <td>0.0</td>\n",
       "      <td>c_2</td>\n",
       "      <td>0.0</td>\n",
       "      <td>edge_96.0.1054.72</td>\n",
       "    </tr>\n",
       "    <tr>\n",
       "      <th>1</th>\n",
       "      <td>11</td>\n",
       "      <td>0.4</td>\n",
       "      <td>103.477432</td>\n",
       "      <td>Feb</td>\n",
       "      <td>407.75 minutes</td>\n",
       "      <td>0.018750</td>\n",
       "      <td>0.0 minutes</td>\n",
       "      <td>NaN</td>\n",
       "      <td>1.0</td>\n",
       "      <td>0.0</td>\n",
       "      <td>...</td>\n",
       "      <td>0.025833</td>\n",
       "      <td>NaN</td>\n",
       "      <td>NaN</td>\n",
       "      <td>Returning_Visitor</td>\n",
       "      <td>4.0</td>\n",
       "      <td>0.0</td>\n",
       "      <td>0.0</td>\n",
       "      <td>c_3</td>\n",
       "      <td>0.0</td>\n",
       "      <td>safari_13</td>\n",
       "    </tr>\n",
       "    <tr>\n",
       "      <th>2</th>\n",
       "      <td>22</td>\n",
       "      <td>0.0</td>\n",
       "      <td>97.143903</td>\n",
       "      <td>Feb</td>\n",
       "      <td>105.0 minutes</td>\n",
       "      <td>0.000000</td>\n",
       "      <td>0.0 minutes</td>\n",
       "      <td>NaN</td>\n",
       "      <td>3.0</td>\n",
       "      <td>0.0</td>\n",
       "      <td>...</td>\n",
       "      <td>0.033333</td>\n",
       "      <td>0.0</td>\n",
       "      <td>NaN</td>\n",
       "      <td>Returning_Visitor</td>\n",
       "      <td>1.0</td>\n",
       "      <td>0.0</td>\n",
       "      <td>0.0</td>\n",
       "      <td>c_5</td>\n",
       "      <td>0.0</td>\n",
       "      <td>chrome_98.0.1</td>\n",
       "    </tr>\n",
       "    <tr>\n",
       "      <th>3</th>\n",
       "      <td>26</td>\n",
       "      <td>0.0</td>\n",
       "      <td>108.802907</td>\n",
       "      <td>Feb</td>\n",
       "      <td>1135.444444 minutes</td>\n",
       "      <td>0.002857</td>\n",
       "      <td>0.0 minutes</td>\n",
       "      <td>NaN</td>\n",
       "      <td>2.0</td>\n",
       "      <td>4.0</td>\n",
       "      <td>...</td>\n",
       "      <td>0.009524</td>\n",
       "      <td>0.0</td>\n",
       "      <td>NaN</td>\n",
       "      <td>Returning_Visitor</td>\n",
       "      <td>1.0</td>\n",
       "      <td>64.6</td>\n",
       "      <td>0.0</td>\n",
       "      <td>c_3</td>\n",
       "      <td>0.0</td>\n",
       "      <td>chrome_99.1.3</td>\n",
       "    </tr>\n",
       "    <tr>\n",
       "      <th>4</th>\n",
       "      <td>51</td>\n",
       "      <td>0.2</td>\n",
       "      <td>119.761133</td>\n",
       "      <td>Feb</td>\n",
       "      <td>265.1666667 minutes</td>\n",
       "      <td>0.011111</td>\n",
       "      <td>0.0 minutes</td>\n",
       "      <td>NaN</td>\n",
       "      <td>3.0</td>\n",
       "      <td>0.0</td>\n",
       "      <td>...</td>\n",
       "      <td>0.026111</td>\n",
       "      <td>0.0</td>\n",
       "      <td>NaN</td>\n",
       "      <td>Returning_Visitor</td>\n",
       "      <td>1.0</td>\n",
       "      <td>0.0</td>\n",
       "      <td>0.0</td>\n",
       "      <td>c_3</td>\n",
       "      <td>0.0</td>\n",
       "      <td>chrome_80</td>\n",
       "    </tr>\n",
       "    <tr>\n",
       "      <th>5</th>\n",
       "      <td>73</td>\n",
       "      <td>0.0</td>\n",
       "      <td>105.798467</td>\n",
       "      <td>Feb</td>\n",
       "      <td>426.66666669999995 minutes</td>\n",
       "      <td>0.000000</td>\n",
       "      <td>0.0 minutes</td>\n",
       "      <td>NaN</td>\n",
       "      <td>2.0</td>\n",
       "      <td>0.0</td>\n",
       "      <td>...</td>\n",
       "      <td>0.012500</td>\n",
       "      <td>0.0</td>\n",
       "      <td>NaN</td>\n",
       "      <td>Returning_Visitor</td>\n",
       "      <td>3.0</td>\n",
       "      <td>0.0</td>\n",
       "      <td>0.0</td>\n",
       "      <td>c_2</td>\n",
       "      <td>0.0</td>\n",
       "      <td>edge_96.0.1054.75</td>\n",
       "    </tr>\n",
       "  </tbody>\n",
       "</table>\n",
       "<p>6 rows × 22 columns</p>\n",
       "</div>"
      ],
      "text/plain": [
       "   id  closeness_to_holiday           B Month       product_page_duration  \\\n",
       "0   9                   0.4   90.064579   Feb               738.0 minutes   \n",
       "1  11                   0.4  103.477432   Feb              407.75 minutes   \n",
       "2  22                   0.0   97.143903   Feb               105.0 minutes   \n",
       "3  26                   0.0  108.802907   Feb         1135.444444 minutes   \n",
       "4  51                   0.2  119.761133   Feb         265.1666667 minutes   \n",
       "5  73                   0.0  105.798467   Feb  426.66666669999995 minutes   \n",
       "\n",
       "   BounceRates info_page_duration  total_duration  device  num_of_admin_pages  \\\n",
       "0     0.000000        0.0 minutes             NaN     2.0                 0.0   \n",
       "1     0.018750        0.0 minutes             NaN     1.0                 0.0   \n",
       "2     0.000000        0.0 minutes             NaN     3.0                 0.0   \n",
       "3     0.002857        0.0 minutes             NaN     2.0                 4.0   \n",
       "4     0.011111        0.0 minutes             NaN     3.0                 0.0   \n",
       "5     0.000000        0.0 minutes             NaN     2.0                 0.0   \n",
       "\n",
       "   ...  ExitRates num_of_info_pages   D          user_type  Region  \\\n",
       "0  ...   0.022222               0.0 NaN  Returning_Visitor     1.0   \n",
       "1  ...   0.025833               NaN NaN  Returning_Visitor     4.0   \n",
       "2  ...   0.033333               0.0 NaN  Returning_Visitor     1.0   \n",
       "3  ...   0.009524               0.0 NaN  Returning_Visitor     1.0   \n",
       "4  ...   0.026111               0.0 NaN  Returning_Visitor     1.0   \n",
       "5  ...   0.012500               0.0 NaN  Returning_Visitor     3.0   \n",
       "\n",
       "  admin_page_duration  PageValues    A  Weekend   internet_browser  \n",
       "0                 0.0         0.0  c_2      0.0  edge_96.0.1054.72  \n",
       "1                 0.0         0.0  c_3      0.0          safari_13  \n",
       "2                 0.0         0.0  c_5      0.0      chrome_98.0.1  \n",
       "3                64.6         0.0  c_3      0.0      chrome_99.1.3  \n",
       "4                 0.0         0.0  c_3      0.0          chrome_80  \n",
       "5                 0.0         0.0  c_2      0.0  edge_96.0.1054.75  \n",
       "\n",
       "[6 rows x 22 columns]"
      ]
     },
     "execution_count": 29,
     "metadata": {},
     "output_type": "execute_result"
    }
   ],
   "source": [
    "test_df = pd.read_csv (r'test.csv')\n",
    "test_df.head(6)"
   ]
  },
  {
   "cell_type": "markdown",
   "metadata": {},
   "source": [
    "### Statistics\n",
    "A quick statistic summary of test data."
   ]
  },
  {
   "cell_type": "code",
   "execution_count": 30,
   "metadata": {},
   "outputs": [
    {
     "data": {
      "text/html": [
       "<div>\n",
       "<style scoped>\n",
       "    .dataframe tbody tr th:only-of-type {\n",
       "        vertical-align: middle;\n",
       "    }\n",
       "\n",
       "    .dataframe tbody tr th {\n",
       "        vertical-align: top;\n",
       "    }\n",
       "\n",
       "    .dataframe thead th {\n",
       "        text-align: right;\n",
       "    }\n",
       "</style>\n",
       "<table border=\"1\" class=\"dataframe\">\n",
       "  <thead>\n",
       "    <tr style=\"text-align: right;\">\n",
       "      <th></th>\n",
       "      <th>id</th>\n",
       "      <th>closeness_to_holiday</th>\n",
       "      <th>B</th>\n",
       "      <th>BounceRates</th>\n",
       "      <th>total_duration</th>\n",
       "      <th>device</th>\n",
       "      <th>num_of_admin_pages</th>\n",
       "      <th>num_of_product_pages</th>\n",
       "      <th>ExitRates</th>\n",
       "      <th>num_of_info_pages</th>\n",
       "      <th>D</th>\n",
       "      <th>Region</th>\n",
       "      <th>admin_page_duration</th>\n",
       "      <th>PageValues</th>\n",
       "      <th>Weekend</th>\n",
       "    </tr>\n",
       "  </thead>\n",
       "  <tbody>\n",
       "    <tr>\n",
       "      <th>count</th>\n",
       "      <td>1851.000000</td>\n",
       "      <td>1739.000000</td>\n",
       "      <td>1845.000000</td>\n",
       "      <td>1849.000000</td>\n",
       "      <td>1023.000000</td>\n",
       "      <td>1788.000000</td>\n",
       "      <td>1772.000000</td>\n",
       "      <td>1757.000000</td>\n",
       "      <td>1848.000000</td>\n",
       "      <td>1750.000000</td>\n",
       "      <td>15.000000</td>\n",
       "      <td>1846.000000</td>\n",
       "      <td>1741.000000</td>\n",
       "      <td>1847.000000</td>\n",
       "      <td>1846.000000</td>\n",
       "    </tr>\n",
       "    <tr>\n",
       "      <th>mean</th>\n",
       "      <td>6305.563479</td>\n",
       "      <td>0.057504</td>\n",
       "      <td>100.017397</td>\n",
       "      <td>0.021813</td>\n",
       "      <td>1313.952178</td>\n",
       "      <td>2.149888</td>\n",
       "      <td>2.230248</td>\n",
       "      <td>32.425726</td>\n",
       "      <td>0.042101</td>\n",
       "      <td>0.481143</td>\n",
       "      <td>3.910114</td>\n",
       "      <td>3.158722</td>\n",
       "      <td>74.789770</td>\n",
       "      <td>5.887469</td>\n",
       "      <td>0.225352</td>\n",
       "    </tr>\n",
       "    <tr>\n",
       "      <th>std</th>\n",
       "      <td>3523.902752</td>\n",
       "      <td>0.192748</td>\n",
       "      <td>9.910496</td>\n",
       "      <td>0.047473</td>\n",
       "      <td>1901.679847</td>\n",
       "      <td>0.937269</td>\n",
       "      <td>3.164246</td>\n",
       "      <td>43.618699</td>\n",
       "      <td>0.047491</td>\n",
       "      <td>1.214755</td>\n",
       "      <td>2.670331</td>\n",
       "      <td>2.389282</td>\n",
       "      <td>152.912021</td>\n",
       "      <td>17.213825</td>\n",
       "      <td>0.417927</td>\n",
       "    </tr>\n",
       "    <tr>\n",
       "      <th>min</th>\n",
       "      <td>9.000000</td>\n",
       "      <td>0.000000</td>\n",
       "      <td>68.411101</td>\n",
       "      <td>0.000000</td>\n",
       "      <td>0.000000</td>\n",
       "      <td>1.000000</td>\n",
       "      <td>0.000000</td>\n",
       "      <td>0.000000</td>\n",
       "      <td>0.000000</td>\n",
       "      <td>0.000000</td>\n",
       "      <td>-0.519170</td>\n",
       "      <td>1.000000</td>\n",
       "      <td>0.000000</td>\n",
       "      <td>0.000000</td>\n",
       "      <td>0.000000</td>\n",
       "    </tr>\n",
       "    <tr>\n",
       "      <th>25%</th>\n",
       "      <td>3281.500000</td>\n",
       "      <td>0.000000</td>\n",
       "      <td>93.304622</td>\n",
       "      <td>0.000000</td>\n",
       "      <td>241.975000</td>\n",
       "      <td>2.000000</td>\n",
       "      <td>0.000000</td>\n",
       "      <td>8.000000</td>\n",
       "      <td>0.014160</td>\n",
       "      <td>0.000000</td>\n",
       "      <td>1.999105</td>\n",
       "      <td>1.000000</td>\n",
       "      <td>0.000000</td>\n",
       "      <td>0.000000</td>\n",
       "      <td>0.000000</td>\n",
       "    </tr>\n",
       "    <tr>\n",
       "      <th>50%</th>\n",
       "      <td>6436.000000</td>\n",
       "      <td>0.000000</td>\n",
       "      <td>100.267483</td>\n",
       "      <td>0.003125</td>\n",
       "      <td>701.000000</td>\n",
       "      <td>2.000000</td>\n",
       "      <td>1.000000</td>\n",
       "      <td>19.000000</td>\n",
       "      <td>0.025000</td>\n",
       "      <td>0.000000</td>\n",
       "      <td>4.555140</td>\n",
       "      <td>3.000000</td>\n",
       "      <td>7.000000</td>\n",
       "      <td>0.000000</td>\n",
       "      <td>0.000000</td>\n",
       "    </tr>\n",
       "    <tr>\n",
       "      <th>75%</th>\n",
       "      <td>9422.500000</td>\n",
       "      <td>0.000000</td>\n",
       "      <td>106.438254</td>\n",
       "      <td>0.016667</td>\n",
       "      <td>1604.225000</td>\n",
       "      <td>3.000000</td>\n",
       "      <td>3.000000</td>\n",
       "      <td>39.000000</td>\n",
       "      <td>0.048509</td>\n",
       "      <td>0.000000</td>\n",
       "      <td>5.921101</td>\n",
       "      <td>4.000000</td>\n",
       "      <td>92.750000</td>\n",
       "      <td>0.000000</td>\n",
       "      <td>0.000000</td>\n",
       "    </tr>\n",
       "    <tr>\n",
       "      <th>max</th>\n",
       "      <td>12307.000000</td>\n",
       "      <td>1.000000</td>\n",
       "      <td>135.351689</td>\n",
       "      <td>0.200000</td>\n",
       "      <td>23614.479813</td>\n",
       "      <td>8.000000</td>\n",
       "      <td>21.000000</td>\n",
       "      <td>439.000000</td>\n",
       "      <td>0.200000</td>\n",
       "      <td>10.000000</td>\n",
       "      <td>6.859929</td>\n",
       "      <td>9.000000</td>\n",
       "      <td>1715.000000</td>\n",
       "      <td>226.677702</td>\n",
       "      <td>1.000000</td>\n",
       "    </tr>\n",
       "  </tbody>\n",
       "</table>\n",
       "</div>"
      ],
      "text/plain": [
       "                 id  closeness_to_holiday            B  BounceRates  \\\n",
       "count   1851.000000           1739.000000  1845.000000  1849.000000   \n",
       "mean    6305.563479              0.057504   100.017397     0.021813   \n",
       "std     3523.902752              0.192748     9.910496     0.047473   \n",
       "min        9.000000              0.000000    68.411101     0.000000   \n",
       "25%     3281.500000              0.000000    93.304622     0.000000   \n",
       "50%     6436.000000              0.000000   100.267483     0.003125   \n",
       "75%     9422.500000              0.000000   106.438254     0.016667   \n",
       "max    12307.000000              1.000000   135.351689     0.200000   \n",
       "\n",
       "       total_duration       device  num_of_admin_pages  num_of_product_pages  \\\n",
       "count     1023.000000  1788.000000         1772.000000           1757.000000   \n",
       "mean      1313.952178     2.149888            2.230248             32.425726   \n",
       "std       1901.679847     0.937269            3.164246             43.618699   \n",
       "min          0.000000     1.000000            0.000000              0.000000   \n",
       "25%        241.975000     2.000000            0.000000              8.000000   \n",
       "50%        701.000000     2.000000            1.000000             19.000000   \n",
       "75%       1604.225000     3.000000            3.000000             39.000000   \n",
       "max      23614.479813     8.000000           21.000000            439.000000   \n",
       "\n",
       "         ExitRates  num_of_info_pages          D       Region  \\\n",
       "count  1848.000000        1750.000000  15.000000  1846.000000   \n",
       "mean      0.042101           0.481143   3.910114     3.158722   \n",
       "std       0.047491           1.214755   2.670331     2.389282   \n",
       "min       0.000000           0.000000  -0.519170     1.000000   \n",
       "25%       0.014160           0.000000   1.999105     1.000000   \n",
       "50%       0.025000           0.000000   4.555140     3.000000   \n",
       "75%       0.048509           0.000000   5.921101     4.000000   \n",
       "max       0.200000          10.000000   6.859929     9.000000   \n",
       "\n",
       "       admin_page_duration   PageValues      Weekend  \n",
       "count          1741.000000  1847.000000  1846.000000  \n",
       "mean             74.789770     5.887469     0.225352  \n",
       "std             152.912021    17.213825     0.417927  \n",
       "min               0.000000     0.000000     0.000000  \n",
       "25%               0.000000     0.000000     0.000000  \n",
       "50%               7.000000     0.000000     0.000000  \n",
       "75%              92.750000     0.000000     0.000000  \n",
       "max            1715.000000   226.677702     1.000000  "
      ]
     },
     "execution_count": 30,
     "metadata": {},
     "output_type": "execute_result"
    }
   ],
   "source": [
    "test_df.describe()"
   ]
  },
  {
   "cell_type": "markdown",
   "metadata": {},
   "source": [
    "### Plotting the data\n",
    "Using the summery above."
   ]
  },
  {
   "cell_type": "markdown",
   "metadata": {},
   "source": [
    "#### num_of_admin_pages\n",
    "The number of administrative pages (such as “profile settings”) the user visited during his session.\n",
    "From the plot, we can to infer that the distribution of the number of admin pages is a power-law distribution.\n",
    "As we can see from above, there are 1772 values, the mean equals to 2.23 and the std is 3.164.\n"
   ]
  },
  {
   "cell_type": "code",
   "execution_count": 31,
   "metadata": {},
   "outputs": [
    {
     "data": {
      "image/png": "[encoded data removed]",
      "text/plain": [
       "<Figure size 432x288 with 1 Axes>"
      ]
     },
     "metadata": {
      "needs_background": "light"
     },
     "output_type": "display_data"
    }
   ],
   "source": [
    "test_df['num_of_admin_pages'].plot.hist()\n",
    "plt.show()"
   ]
  },
  {
   "cell_type": "markdown",
   "metadata": {},
   "source": [
    "#### closeness_to_holiday\n",
    "How close was the session to a special day (like black Friday) or a holiday (like Passover).\n",
    "We can see that this feature is numeric only. The maximum closeness to holiday is 1 day, and the minimum is 0 days (the session itself is in \n",
    "holiday).\n",
    "We can see from the test_df.describe() and the plot below that most of the sessions are on holidays.\n"
   ]
  },
  {
   "cell_type": "code",
   "execution_count": 32,
   "metadata": {},
   "outputs": [
    {
     "data": {
      "image/png": "[encoded data removed]",
      "text/plain": [
       "<Figure size 432x288 with 1 Axes>"
      ]
     },
     "metadata": {
      "needs_background": "light"
     },
     "output_type": "display_data"
    }
   ],
   "source": [
    "test_df['closeness_to_holiday'].plot.hist()\n",
    "plt.show()"
   ]
  },
  {
   "cell_type": "markdown",
   "metadata": {},
   "source": [
    "#### A,B,C,D\n",
    "Anonymous columns – might be helpful for prediction.\n",
    "As we can see from the plots below, B has a normal distribution with mean that is approximately 100 and std that is approximately 10.\n",
    "We can understant so much about D. A and C aren't numeric."
   ]
  },
  {
   "cell_type": "code",
   "execution_count": 33,
   "metadata": {},
   "outputs": [
    {
     "data": {
      "image/png": "[encoded data removed]",
      "text/plain": [
       "<Figure size 432x288 with 1 Axes>"
      ]
     },
     "metadata": {
      "needs_background": "light"
     },
     "output_type": "display_data"
    }
   ],
   "source": [
    "test_df['B'].plot.hist()\n",
    "plt.show()"
   ]
  },
  {
   "cell_type": "code",
   "execution_count": 34,
   "metadata": {},
   "outputs": [
    {
     "data": {
      "image/png": "[encoded data removed]",
      "text/plain": [
       "<Figure size 432x288 with 1 Axes>"
      ]
     },
     "metadata": {
      "needs_background": "light"
     },
     "output_type": "display_data"
    }
   ],
   "source": [
    "test_df['D'].plot.hist()\n",
    "plt.show()"
   ]
  },
  {
   "cell_type": "code",
   "execution_count": 35,
   "metadata": {},
   "outputs": [
    {
     "data": {
      "text/plain": [
       "0    c_2\n",
       "1    c_3\n",
       "2    c_5\n",
       "3    c_3\n",
       "4    c_3\n",
       "5    c_2\n",
       "6    NaN\n",
       "7    c_2\n",
       "8    c_4\n",
       "9    c_3\n",
       "Name: A, dtype: object"
      ]
     },
     "execution_count": 35,
     "metadata": {},
     "output_type": "execute_result"
    }
   ],
   "source": [
    "test_df['A'].head(10)"
   ]
  },
  {
   "cell_type": "code",
   "execution_count": 36,
   "metadata": {},
   "outputs": [
    {
     "data": {
      "text/plain": [
       "0    log8080\n",
       "1    log_100\n",
       "2     log400\n",
       "3     log200\n",
       "4    log_100\n",
       "5     log400\n",
       "6     log404\n",
       "7     log202\n",
       "8    log_100\n",
       "9     log404\n",
       "Name: C, dtype: object"
      ]
     },
     "execution_count": 36,
     "metadata": {},
     "output_type": "execute_result"
    }
   ],
   "source": [
    "test_df['C'].head(10)"
   ]
  },
  {
   "cell_type": "markdown",
   "metadata": {},
   "source": [
    "#### BounceRates\n",
    "Google Analytics measure for percentage of users who enter the site from a specific page and then leave."
   ]
  },
  {
   "cell_type": "code",
   "execution_count": 37,
   "metadata": {},
   "outputs": [
    {
     "data": {
      "image/png": "[encoded data removed]",
      "text/plain": [
       "<Figure size 432x288 with 1 Axes>"
      ]
     },
     "metadata": {
      "needs_background": "light"
     },
     "output_type": "display_data"
    }
   ],
   "source": [
    "test_df['BounceRates'].plot.hist()\n",
    "plt.show()"
   ]
  },
  {
   "cell_type": "markdown",
   "metadata": {},
   "source": [
    "#### total_duration\n",
    "The total duration of the session.\n",
    "As we can see from the plot below, most of the total durations of the sessions are between 0 to 5000"
   ]
  },
  {
   "cell_type": "code",
   "execution_count": 38,
   "metadata": {},
   "outputs": [
    {
     "data": {
      "image/png": "[encoded data removed]",
      "text/plain": [
       "<Figure size 432x288 with 1 Axes>"
      ]
     },
     "metadata": {
      "needs_background": "light"
     },
     "output_type": "display_data"
    }
   ],
   "source": [
    "test_df['total_duration'].plot.hist()\n",
    "plt.show()"
   ]
  },
  {
   "cell_type": "markdown",
   "metadata": {},
   "source": [
    "#### device\n",
    "Device that the user used for the session. We can't understand what each number in this column represnts, but we assume that there are 8 possible devices. Most of the users use devices no. 1, 2 and 3."
   ]
  },
  {
   "cell_type": "code",
   "execution_count": 39,
   "metadata": {},
   "outputs": [
    {
     "data": {
      "image/png": "[encoded data removed]",
      "text/plain": [
       "<Figure size 432x288 with 1 Axes>"
      ]
     },
     "metadata": {
      "needs_background": "light"
     },
     "output_type": "display_data"
    }
   ],
   "source": [
    "test_df['device'].plot.hist()\n",
    "plt.show()"
   ]
  },
  {
   "cell_type": "markdown",
   "metadata": {},
   "source": [
    "#### num_of_product_pages\n",
    "The number of product-related pages (such as “product tech specs”) the user visited during his session.\n",
    "We understand from the plot below that most of the users are visiting between 0-100 pages."
   ]
  },
  {
   "cell_type": "code",
   "execution_count": 40,
   "metadata": {},
   "outputs": [
    {
     "data": {
      "image/png": "[encoded data removed]",
      "text/plain": [
       "<Figure size 432x288 with 1 Axes>"
      ]
     },
     "metadata": {
      "needs_background": "light"
     },
     "output_type": "display_data"
    }
   ],
   "source": [
    "test_df['num_of_product_pages'].plot.hist()\n",
    "plt.show()"
   ]
  },
  {
   "cell_type": "markdown",
   "metadata": {},
   "source": [
    "#### ExitRates\n",
    "Google Analytics measure for percentage of users who left the site from a specific page."
   ]
  },
  {
   "cell_type": "code",
   "execution_count": 41,
   "metadata": {},
   "outputs": [
    {
     "data": {
      "image/png": "[encoded data removed]",
      "text/plain": [
       "<Figure size 432x288 with 1 Axes>"
      ]
     },
     "metadata": {
      "needs_background": "light"
     },
     "output_type": "display_data"
    }
   ],
   "source": [
    "test_df['ExitRates'].plot.hist()\n",
    "plt.show()"
   ]
  },
  {
   "cell_type": "markdown",
   "metadata": {},
   "source": [
    "#### num_of_info_pages\n",
    "The number of information pages (such as “refund policy”) the user visited during his session.\n",
    "As we can see from the plot below, most of the users don't visit the information pages."
   ]
  },
  {
   "cell_type": "code",
   "execution_count": 42,
   "metadata": {},
   "outputs": [
    {
     "data": {
      "image/png": "[encoded data removed]",
      "text/plain": [
       "<Figure size 432x288 with 1 Axes>"
      ]
     },
     "metadata": {
      "needs_background": "light"
     },
     "output_type": "display_data"
    }
   ],
   "source": [
    "test_df['num_of_info_pages'].plot.hist()\n",
    "plt.show()"
   ]
  },
  {
   "cell_type": "markdown",
   "metadata": {},
   "source": [
    "#### Region\n",
    "Geographic origin of user IP.\n",
    "From the plot below, we understand that most of the users are from region 1 and 3."
   ]
  },
  {
   "cell_type": "code",
   "execution_count": 43,
   "metadata": {},
   "outputs": [
    {
     "data": {
      "image/png": "[encoded data removed]",
      "text/plain": [
       "<Figure size 432x288 with 1 Axes>"
      ]
     },
     "metadata": {
      "needs_background": "light"
     },
     "output_type": "display_data"
    }
   ],
   "source": [
    "test_df['Region'].plot.hist()\n",
    "plt.show()"
   ]
  },
  {
   "cell_type": "markdown",
   "metadata": {},
   "source": [
    "#### admin_page_duration\n",
    "Duration of time spent on administrative pages.\n",
    "As we can see, most of the users don't visit administrative pages, maybe because most of the users aren't admins. Those who are (there are approximately 200), visit them a lot (250-500 times)."
   ]
  },
  {
   "cell_type": "code",
   "execution_count": 44,
   "metadata": {},
   "outputs": [
    {
     "data": {
      "image/png": "[encoded data removed]",
      "text/plain": [
       "<Figure size 432x288 with 1 Axes>"
      ]
     },
     "metadata": {
      "needs_background": "light"
     },
     "output_type": "display_data"
    }
   ],
   "source": [
    "test_df['admin_page_duration'].plot.hist()\n",
    "plt.show()"
   ]
  },
  {
   "cell_type": "markdown",
   "metadata": {},
   "source": [
    "#### PageValues\n",
    "Google Analytics measure. Page Value is the average value for a page that a user visited before landing on the goal page or completing an Ecommerce transaction (or both)."
   ]
  },
  {
   "cell_type": "code",
   "execution_count": 45,
   "metadata": {},
   "outputs": [
    {
     "data": {
      "image/png": "[encoded data removed]",
      "text/plain": [
       "<Figure size 432x288 with 1 Axes>"
      ]
     },
     "metadata": {
      "needs_background": "light"
     },
     "output_type": "display_data"
    }
   ],
   "source": [
    "test_df['PageValues'].plot.hist()\n",
    "plt.show()"
   ]
  },
  {
   "cell_type": "markdown",
   "metadata": {},
   "source": [
    "#### Weekend\n",
    "Was the session made during the weekend or not?\n",
    "As we can see, this is a binary feature. Most of the sessions aren't made during the weekend.\n",
    "Maybe there are promotions during the week or maybe they should make promotions during the weekend."
   ]
  },
  {
   "cell_type": "code",
   "execution_count": 46,
   "metadata": {},
   "outputs": [
    {
     "data": {
      "image/png": "[encoded data removed]",
      "text/plain": [
       "<Figure size 432x288 with 1 Axes>"
      ]
     },
     "metadata": {
      "needs_background": "light"
     },
     "output_type": "display_data"
    }
   ],
   "source": [
    "test_df['Weekend'].plot.hist()\n",
    "plt.show()"
   ]
  },
  {
   "cell_type": "markdown",
   "metadata": {},
   "source": [
    "### Groupby\n",
    "Grouping by the various categorial features."
   ]
  },
  {
   "cell_type": "code",
   "execution_count": 47,
   "metadata": {},
   "outputs": [
    {
     "data": {
      "text/plain": [
       "internet_browser\n",
       "browser_10_v10     1\n",
       "browser_10_v11     1\n",
       "browser_10_v13     1\n",
       "browser_10_v14     3\n",
       "browser_10_v15     1\n",
       "                  ..\n",
       "safari_14         43\n",
       "safari_14.1       39\n",
       "safari_15         56\n",
       "safari_15.2       47\n",
       "safari_15.4       52\n",
       "Length: 87, dtype: int64"
      ]
     },
     "execution_count": 47,
     "metadata": {},
     "output_type": "execute_result"
    }
   ],
   "source": [
    "test_df.groupby(\"internet_browser\").size()"
   ]
  },
  {
   "cell_type": "code",
   "execution_count": 48,
   "metadata": {},
   "outputs": [
    {
     "data": {
      "text/plain": [
       "A\n",
       "c_1        375\n",
       "c_10        64\n",
       "c_11        48\n",
       "c_13       105\n",
       "c_14         1\n",
       "c_15         7\n",
       "c_18         1\n",
       "c_19         4\n",
       "c_2        560\n",
       "c_20_14      1\n",
       "c_20_17      1\n",
       "c_20_2       1\n",
       "c_20_26      1\n",
       "c_20_30      1\n",
       "c_20_34      1\n",
       "c_20_38      1\n",
       "c_20_4       1\n",
       "c_20_41      1\n",
       "c_20_47      1\n",
       "c_20_48      1\n",
       "c_20_49      1\n",
       "c_20_50      1\n",
       "c_20_51      1\n",
       "c_20_54      1\n",
       "c_20_56      1\n",
       "c_20_57      1\n",
       "c_20_58      1\n",
       "c_20_60      1\n",
       "c_20_61      1\n",
       "c_20_72      2\n",
       "c_20_79      1\n",
       "c_20_80      2\n",
       "c_20_82      1\n",
       "c_20_84      2\n",
       "c_20_86      1\n",
       "c_3        279\n",
       "c_4        166\n",
       "c_5         26\n",
       "c_6         64\n",
       "c_7          1\n",
       "c_8         46\n",
       "c_9          8\n",
       "dtype: int64"
      ]
     },
     "execution_count": 48,
     "metadata": {},
     "output_type": "execute_result"
    }
   ],
   "source": [
    "test_df.groupby(\"A\").size()"
   ]
  },
  {
   "cell_type": "code",
   "execution_count": 49,
   "metadata": {},
   "outputs": [
    {
     "data": {
      "text/plain": [
       "C\n",
       "log200     332\n",
       "log202     271\n",
       "log400     329\n",
       "log404     298\n",
       "log8080    311\n",
       "log_100    306\n",
       "dtype: int64"
      ]
     },
     "execution_count": 49,
     "metadata": {},
     "output_type": "execute_result"
    }
   ],
   "source": [
    "test_df.groupby(\"C\").size()"
   ]
  },
  {
   "cell_type": "markdown",
   "metadata": {},
   "source": [
    "### Correlations and Heatmap"
   ]
  },
  {
   "cell_type": "code",
   "execution_count": 50,
   "metadata": {},
   "outputs": [
    {
     "data": {
      "text/html": [
       "<div>\n",
       "<style scoped>\n",
       "    .dataframe tbody tr th:only-of-type {\n",
       "        vertical-align: middle;\n",
       "    }\n",
       "\n",
       "    .dataframe tbody tr th {\n",
       "        vertical-align: top;\n",
       "    }\n",
       "\n",
       "    .dataframe thead th {\n",
       "        text-align: right;\n",
       "    }\n",
       "</style>\n",
       "<table border=\"1\" class=\"dataframe\">\n",
       "  <thead>\n",
       "    <tr style=\"text-align: right;\">\n",
       "      <th></th>\n",
       "      <th>id</th>\n",
       "      <th>closeness_to_holiday</th>\n",
       "      <th>B</th>\n",
       "      <th>BounceRates</th>\n",
       "      <th>total_duration</th>\n",
       "      <th>device</th>\n",
       "      <th>num_of_admin_pages</th>\n",
       "      <th>num_of_product_pages</th>\n",
       "      <th>ExitRates</th>\n",
       "      <th>num_of_info_pages</th>\n",
       "      <th>D</th>\n",
       "      <th>Region</th>\n",
       "      <th>admin_page_duration</th>\n",
       "      <th>PageValues</th>\n",
       "      <th>Weekend</th>\n",
       "    </tr>\n",
       "  </thead>\n",
       "  <tbody>\n",
       "    <tr>\n",
       "      <th>id</th>\n",
       "      <td>1.000000</td>\n",
       "      <td>-0.225877</td>\n",
       "      <td>-0.024776</td>\n",
       "      <td>-0.066769</td>\n",
       "      <td>0.156030</td>\n",
       "      <td>0.062482</td>\n",
       "      <td>0.085646</td>\n",
       "      <td>0.156834</td>\n",
       "      <td>-0.089005</td>\n",
       "      <td>0.043867</td>\n",
       "      <td>-0.347434</td>\n",
       "      <td>0.042110</td>\n",
       "      <td>0.035626</td>\n",
       "      <td>0.069923</td>\n",
       "      <td>0.016579</td>\n",
       "    </tr>\n",
       "    <tr>\n",
       "      <th>closeness_to_holiday</th>\n",
       "      <td>-0.225877</td>\n",
       "      <td>1.000000</td>\n",
       "      <td>0.028141</td>\n",
       "      <td>0.080550</td>\n",
       "      <td>-0.058860</td>\n",
       "      <td>0.007601</td>\n",
       "      <td>-0.081929</td>\n",
       "      <td>-0.004579</td>\n",
       "      <td>0.101746</td>\n",
       "      <td>-0.044537</td>\n",
       "      <td>NaN</td>\n",
       "      <td>0.008362</td>\n",
       "      <td>-0.080914</td>\n",
       "      <td>-0.075187</td>\n",
       "      <td>-0.025149</td>\n",
       "    </tr>\n",
       "    <tr>\n",
       "      <th>B</th>\n",
       "      <td>-0.024776</td>\n",
       "      <td>0.028141</td>\n",
       "      <td>1.000000</td>\n",
       "      <td>0.019763</td>\n",
       "      <td>-0.008509</td>\n",
       "      <td>0.030655</td>\n",
       "      <td>-0.022608</td>\n",
       "      <td>-0.017540</td>\n",
       "      <td>0.027414</td>\n",
       "      <td>-0.015020</td>\n",
       "      <td>0.216368</td>\n",
       "      <td>0.007540</td>\n",
       "      <td>-0.009700</td>\n",
       "      <td>0.000030</td>\n",
       "      <td>0.005121</td>\n",
       "    </tr>\n",
       "    <tr>\n",
       "      <th>BounceRates</th>\n",
       "      <td>-0.066769</td>\n",
       "      <td>0.080550</td>\n",
       "      <td>0.019763</td>\n",
       "      <td>1.000000</td>\n",
       "      <td>-0.200165</td>\n",
       "      <td>0.002169</td>\n",
       "      <td>-0.233953</td>\n",
       "      <td>-0.212585</td>\n",
       "      <td>0.916725</td>\n",
       "      <td>-0.120313</td>\n",
       "      <td>0.117850</td>\n",
       "      <td>-0.018720</td>\n",
       "      <td>-0.166670</td>\n",
       "      <td>-0.123051</td>\n",
       "      <td>-0.069649</td>\n",
       "    </tr>\n",
       "    <tr>\n",
       "      <th>total_duration</th>\n",
       "      <td>0.156030</td>\n",
       "      <td>-0.058860</td>\n",
       "      <td>-0.008509</td>\n",
       "      <td>-0.200165</td>\n",
       "      <td>1.000000</td>\n",
       "      <td>-0.000965</td>\n",
       "      <td>0.378087</td>\n",
       "      <td>0.883120</td>\n",
       "      <td>-0.282836</td>\n",
       "      <td>0.389500</td>\n",
       "      <td>-0.607884</td>\n",
       "      <td>-0.039806</td>\n",
       "      <td>0.354996</td>\n",
       "      <td>0.082629</td>\n",
       "      <td>0.020350</td>\n",
       "    </tr>\n",
       "    <tr>\n",
       "      <th>device</th>\n",
       "      <td>0.062482</td>\n",
       "      <td>0.007601</td>\n",
       "      <td>0.030655</td>\n",
       "      <td>0.002169</td>\n",
       "      <td>-0.000965</td>\n",
       "      <td>1.000000</td>\n",
       "      <td>-0.016448</td>\n",
       "      <td>-0.008278</td>\n",
       "      <td>-0.005932</td>\n",
       "      <td>-0.014417</td>\n",
       "      <td>-0.084216</td>\n",
       "      <td>0.081937</td>\n",
       "      <td>-0.015184</td>\n",
       "      <td>0.013994</td>\n",
       "      <td>0.003631</td>\n",
       "    </tr>\n",
       "    <tr>\n",
       "      <th>num_of_admin_pages</th>\n",
       "      <td>0.085646</td>\n",
       "      <td>-0.081929</td>\n",
       "      <td>-0.022608</td>\n",
       "      <td>-0.233953</td>\n",
       "      <td>0.378087</td>\n",
       "      <td>-0.016448</td>\n",
       "      <td>1.000000</td>\n",
       "      <td>0.404407</td>\n",
       "      <td>-0.323597</td>\n",
       "      <td>0.362743</td>\n",
       "      <td>-0.270029</td>\n",
       "      <td>0.008471</td>\n",
       "      <td>0.585668</td>\n",
       "      <td>0.090154</td>\n",
       "      <td>0.019390</td>\n",
       "    </tr>\n",
       "    <tr>\n",
       "      <th>num_of_product_pages</th>\n",
       "      <td>0.156834</td>\n",
       "      <td>-0.004579</td>\n",
       "      <td>-0.017540</td>\n",
       "      <td>-0.212585</td>\n",
       "      <td>0.883120</td>\n",
       "      <td>-0.008278</td>\n",
       "      <td>0.404407</td>\n",
       "      <td>1.000000</td>\n",
       "      <td>-0.297279</td>\n",
       "      <td>0.359962</td>\n",
       "      <td>-0.332077</td>\n",
       "      <td>-0.040340</td>\n",
       "      <td>0.217567</td>\n",
       "      <td>0.056863</td>\n",
       "      <td>0.031997</td>\n",
       "    </tr>\n",
       "    <tr>\n",
       "      <th>ExitRates</th>\n",
       "      <td>-0.089005</td>\n",
       "      <td>0.101746</td>\n",
       "      <td>0.027414</td>\n",
       "      <td>0.916725</td>\n",
       "      <td>-0.282836</td>\n",
       "      <td>-0.005932</td>\n",
       "      <td>-0.323597</td>\n",
       "      <td>-0.297279</td>\n",
       "      <td>1.000000</td>\n",
       "      <td>-0.169166</td>\n",
       "      <td>0.143850</td>\n",
       "      <td>-0.022528</td>\n",
       "      <td>-0.233661</td>\n",
       "      <td>-0.178154</td>\n",
       "      <td>-0.085223</td>\n",
       "    </tr>\n",
       "    <tr>\n",
       "      <th>num_of_info_pages</th>\n",
       "      <td>0.043867</td>\n",
       "      <td>-0.044537</td>\n",
       "      <td>-0.015020</td>\n",
       "      <td>-0.120313</td>\n",
       "      <td>0.389500</td>\n",
       "      <td>-0.014417</td>\n",
       "      <td>0.362743</td>\n",
       "      <td>0.359962</td>\n",
       "      <td>-0.169166</td>\n",
       "      <td>1.000000</td>\n",
       "      <td>0.218975</td>\n",
       "      <td>0.001900</td>\n",
       "      <td>0.232134</td>\n",
       "      <td>0.046202</td>\n",
       "      <td>0.068057</td>\n",
       "    </tr>\n",
       "    <tr>\n",
       "      <th>D</th>\n",
       "      <td>-0.347434</td>\n",
       "      <td>NaN</td>\n",
       "      <td>0.216368</td>\n",
       "      <td>0.117850</td>\n",
       "      <td>-0.607884</td>\n",
       "      <td>-0.084216</td>\n",
       "      <td>-0.270029</td>\n",
       "      <td>-0.332077</td>\n",
       "      <td>0.143850</td>\n",
       "      <td>0.218975</td>\n",
       "      <td>1.000000</td>\n",
       "      <td>-0.250791</td>\n",
       "      <td>-0.388261</td>\n",
       "      <td>-0.082647</td>\n",
       "      <td>0.162808</td>\n",
       "    </tr>\n",
       "    <tr>\n",
       "      <th>Region</th>\n",
       "      <td>0.042110</td>\n",
       "      <td>0.008362</td>\n",
       "      <td>0.007540</td>\n",
       "      <td>-0.018720</td>\n",
       "      <td>-0.039806</td>\n",
       "      <td>0.081937</td>\n",
       "      <td>0.008471</td>\n",
       "      <td>-0.040340</td>\n",
       "      <td>-0.022528</td>\n",
       "      <td>0.001900</td>\n",
       "      <td>-0.250791</td>\n",
       "      <td>1.000000</td>\n",
       "      <td>-0.002485</td>\n",
       "      <td>0.034087</td>\n",
       "      <td>-0.036499</td>\n",
       "    </tr>\n",
       "    <tr>\n",
       "      <th>admin_page_duration</th>\n",
       "      <td>0.035626</td>\n",
       "      <td>-0.080914</td>\n",
       "      <td>-0.009700</td>\n",
       "      <td>-0.166670</td>\n",
       "      <td>0.354996</td>\n",
       "      <td>-0.015184</td>\n",
       "      <td>0.585668</td>\n",
       "      <td>0.217567</td>\n",
       "      <td>-0.233661</td>\n",
       "      <td>0.232134</td>\n",
       "      <td>-0.388261</td>\n",
       "      <td>-0.002485</td>\n",
       "      <td>1.000000</td>\n",
       "      <td>0.066705</td>\n",
       "      <td>0.042815</td>\n",
       "    </tr>\n",
       "    <tr>\n",
       "      <th>PageValues</th>\n",
       "      <td>0.069923</td>\n",
       "      <td>-0.075187</td>\n",
       "      <td>0.000030</td>\n",
       "      <td>-0.123051</td>\n",
       "      <td>0.082629</td>\n",
       "      <td>0.013994</td>\n",
       "      <td>0.090154</td>\n",
       "      <td>0.056863</td>\n",
       "      <td>-0.178154</td>\n",
       "      <td>0.046202</td>\n",
       "      <td>-0.082647</td>\n",
       "      <td>0.034087</td>\n",
       "      <td>0.066705</td>\n",
       "      <td>1.000000</td>\n",
       "      <td>0.019991</td>\n",
       "    </tr>\n",
       "    <tr>\n",
       "      <th>Weekend</th>\n",
       "      <td>0.016579</td>\n",
       "      <td>-0.025149</td>\n",
       "      <td>0.005121</td>\n",
       "      <td>-0.069649</td>\n",
       "      <td>0.020350</td>\n",
       "      <td>0.003631</td>\n",
       "      <td>0.019390</td>\n",
       "      <td>0.031997</td>\n",
       "      <td>-0.085223</td>\n",
       "      <td>0.068057</td>\n",
       "      <td>0.162808</td>\n",
       "      <td>-0.036499</td>\n",
       "      <td>0.042815</td>\n",
       "      <td>0.019991</td>\n",
       "      <td>1.000000</td>\n",
       "    </tr>\n",
       "  </tbody>\n",
       "</table>\n",
       "</div>"
      ],
      "text/plain": [
       "                            id  closeness_to_holiday         B  BounceRates  \\\n",
       "id                    1.000000             -0.225877 -0.024776    -0.066769   \n",
       "closeness_to_holiday -0.225877              1.000000  0.028141     0.080550   \n",
       "B                    -0.024776              0.028141  1.000000     0.019763   \n",
       "BounceRates          -0.066769              0.080550  0.019763     1.000000   \n",
       "total_duration        0.156030             -0.058860 -0.008509    -0.200165   \n",
       "device                0.062482              0.007601  0.030655     0.002169   \n",
       "num_of_admin_pages    0.085646             -0.081929 -0.022608    -0.233953   \n",
       "num_of_product_pages  0.156834             -0.004579 -0.017540    -0.212585   \n",
       "ExitRates            -0.089005              0.101746  0.027414     0.916725   \n",
       "num_of_info_pages     0.043867             -0.044537 -0.015020    -0.120313   \n",
       "D                    -0.347434                   NaN  0.216368     0.117850   \n",
       "Region                0.042110              0.008362  0.007540    -0.018720   \n",
       "admin_page_duration   0.035626             -0.080914 -0.009700    -0.166670   \n",
       "PageValues            0.069923             -0.075187  0.000030    -0.123051   \n",
       "Weekend               0.016579             -0.025149  0.005121    -0.069649   \n",
       "\n",
       "                      total_duration    device  num_of_admin_pages  \\\n",
       "id                          0.156030  0.062482            0.085646   \n",
       "closeness_to_holiday       -0.058860  0.007601           -0.081929   \n",
       "B                          -0.008509  0.030655           -0.022608   \n",
       "BounceRates                -0.200165  0.002169           -0.233953   \n",
       "total_duration              1.000000 -0.000965            0.378087   \n",
       "device                     -0.000965  1.000000           -0.016448   \n",
       "num_of_admin_pages          0.378087 -0.016448            1.000000   \n",
       "num_of_product_pages        0.883120 -0.008278            0.404407   \n",
       "ExitRates                  -0.282836 -0.005932           -0.323597   \n",
       "num_of_info_pages           0.389500 -0.014417            0.362743   \n",
       "D                          -0.607884 -0.084216           -0.270029   \n",
       "Region                     -0.039806  0.081937            0.008471   \n",
       "admin_page_duration         0.354996 -0.015184            0.585668   \n",
       "PageValues                  0.082629  0.013994            0.090154   \n",
       "Weekend                     0.020350  0.003631            0.019390   \n",
       "\n",
       "                      num_of_product_pages  ExitRates  num_of_info_pages  \\\n",
       "id                                0.156834  -0.089005           0.043867   \n",
       "closeness_to_holiday             -0.004579   0.101746          -0.044537   \n",
       "B                                -0.017540   0.027414          -0.015020   \n",
       "BounceRates                      -0.212585   0.916725          -0.120313   \n",
       "total_duration                    0.883120  -0.282836           0.389500   \n",
       "device                           -0.008278  -0.005932          -0.014417   \n",
       "num_of_admin_pages                0.404407  -0.323597           0.362743   \n",
       "num_of_product_pages              1.000000  -0.297279           0.359962   \n",
       "ExitRates                        -0.297279   1.000000          -0.169166   \n",
       "num_of_info_pages                 0.359962  -0.169166           1.000000   \n",
       "D                                -0.332077   0.143850           0.218975   \n",
       "Region                           -0.040340  -0.022528           0.001900   \n",
       "admin_page_duration               0.217567  -0.233661           0.232134   \n",
       "PageValues                        0.056863  -0.178154           0.046202   \n",
       "Weekend                           0.031997  -0.085223           0.068057   \n",
       "\n",
       "                             D    Region  admin_page_duration  PageValues  \\\n",
       "id                   -0.347434  0.042110             0.035626    0.069923   \n",
       "closeness_to_holiday       NaN  0.008362            -0.080914   -0.075187   \n",
       "B                     0.216368  0.007540            -0.009700    0.000030   \n",
       "BounceRates           0.117850 -0.018720            -0.166670   -0.123051   \n",
       "total_duration       -0.607884 -0.039806             0.354996    0.082629   \n",
       "device               -0.084216  0.081937            -0.015184    0.013994   \n",
       "num_of_admin_pages   -0.270029  0.008471             0.585668    0.090154   \n",
       "num_of_product_pages -0.332077 -0.040340             0.217567    0.056863   \n",
       "ExitRates             0.143850 -0.022528            -0.233661   -0.178154   \n",
       "num_of_info_pages     0.218975  0.001900             0.232134    0.046202   \n",
       "D                     1.000000 -0.250791            -0.388261   -0.082647   \n",
       "Region               -0.250791  1.000000            -0.002485    0.034087   \n",
       "admin_page_duration  -0.388261 -0.002485             1.000000    0.066705   \n",
       "PageValues           -0.082647  0.034087             0.066705    1.000000   \n",
       "Weekend               0.162808 -0.036499             0.042815    0.019991   \n",
       "\n",
       "                       Weekend  \n",
       "id                    0.016579  \n",
       "closeness_to_holiday -0.025149  \n",
       "B                     0.005121  \n",
       "BounceRates          -0.069649  \n",
       "total_duration        0.020350  \n",
       "device                0.003631  \n",
       "num_of_admin_pages    0.019390  \n",
       "num_of_product_pages  0.031997  \n",
       "ExitRates            -0.085223  \n",
       "num_of_info_pages     0.068057  \n",
       "D                     0.162808  \n",
       "Region               -0.036499  \n",
       "admin_page_duration   0.042815  \n",
       "PageValues            0.019991  \n",
       "Weekend               1.000000  "
      ]
     },
     "execution_count": 50,
     "metadata": {},
     "output_type": "execute_result"
    }
   ],
   "source": [
    "test_df.corr()"
   ]
  },
  {
   "cell_type": "code",
   "execution_count": 54,
   "metadata": {},
   "outputs": [
    {
     "data": {
      "image/png": "[encoded data removed]",
      "text/plain": [
       "<Figure size 432x288 with 2 Axes>"
      ]
     },
     "metadata": {
      "needs_background": "light"
     },
     "output_type": "display_data"
    }
   ],
   "source": [
    "sns.heatmap(test_df.corr(), \n",
    "        xticklabels=test_df.corr().columns,\n",
    "        yticklabels=test_df.corr().columns)\n",
    "plt.show()"
   ]
  }
 ],
 "metadata": {
  "interpreter": {
   "hash": "4b11f8d247a7bf8c0a6f4d56e0a0da45aab48acb62ce74e55bc85a3a7cda7f4b"
  },
  "kernelspec": {
   "display_name": "Python 3.8.8 ('base')",
   "language": "python",
   "name": "python3"
  },
  "language_info": {
   "codemirror_mode": {
    "name": "ipython",
    "version": 3
   },
   "file_extension": ".py",
   "mimetype": "text/x-python",
   "name": "python",
   "nbconvert_exporter": "python",
   "pygments_lexer": "ipython3",
   "version": "3.8.3"
  },
  "orig_nbformat": 4
 },
 "nbformat": 4,
 "nbformat_minor": 2
}
